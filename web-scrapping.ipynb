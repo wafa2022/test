{
 "cells": [
  {
   "cell_type": "code",
   "execution_count": 37,
   "id": "a165ba7b",
   "metadata": {},
   "outputs": [],
   "source": [
    "import pymongo\n",
    "import requests"
   ]
  },
  {
   "cell_type": "code",
   "execution_count": 38,
   "id": "61dcd23e",
   "metadata": {},
   "outputs": [
    {
     "name": "stdout",
     "output_type": "stream",
     "text": [
      "Requirement already satisfied: pymongo in c:\\users\\wafa\\anaconda3\\lib\\site-packages (4.2.0)\n",
      "Note: you may need to restart the kernel to use updated packages.\n"
     ]
    }
   ],
   "source": [
    "pip install pymongo"
   ]
  },
  {
   "cell_type": "code",
   "execution_count": 39,
   "id": "5e03d310",
   "metadata": {},
   "outputs": [],
   "source": [
    "from selenium import webdriver \n",
    "from bs4 import BeautifulSoup\n",
    "from pymongo import MongoClient"
   ]
  },
  {
   "cell_type": "code",
   "execution_count": 40,
   "id": "6c361031",
   "metadata": {},
   "outputs": [],
   "source": [
    "from selenium.webdriver.support.wait import WebDriverWait\n",
    "from selenium.webdriver.common.by import By\n",
    "from selenium.webdriver.support import expected_conditions as EC"
   ]
  },
  {
   "cell_type": "code",
   "execution_count": 41,
   "id": "fd632e5c",
   "metadata": {},
   "outputs": [],
   "source": [
    "from time import sleep\n",
    "import urllib.request\n",
    "import os"
   ]
  },
  {
   "cell_type": "code",
   "execution_count": 9,
   "id": "ad6f94eb",
   "metadata": {},
   "outputs": [
    {
     "name": "stdout",
     "output_type": "stream",
     "text": [
      "Collecting webdriver-manager\n",
      "  Downloading webdriver_manager-3.8.3-py2.py3-none-any.whl (26 kB)\n",
      "Requirement already satisfied: tqdm in c:\\users\\wafa\\anaconda3\\lib\\site-packages (from webdriver-manager) (4.62.3)\n",
      "Requirement already satisfied: python-dotenv in c:\\users\\wafa\\anaconda3\\lib\\site-packages (from webdriver-manager) (0.20.0)\n",
      "Requirement already satisfied: requests in c:\\users\\wafa\\anaconda3\\lib\\site-packages (from webdriver-manager) (2.25.1)\n",
      "Requirement already satisfied: chardet<5,>=3.0.2 in c:\\users\\wafa\\anaconda3\\lib\\site-packages (from requests->webdriver-manager) (4.0.0)\n",
      "Requirement already satisfied: urllib3<1.27,>=1.21.1 in c:\\users\\wafa\\anaconda3\\lib\\site-packages (from requests->webdriver-manager) (1.26.9)\n",
      "Requirement already satisfied: idna<3,>=2.5 in c:\\users\\wafa\\anaconda3\\lib\\site-packages (from requests->webdriver-manager) (2.10)\n",
      "Requirement already satisfied: certifi>=2017.4.17 in c:\\users\\wafa\\anaconda3\\lib\\site-packages (from requests->webdriver-manager) (2021.10.8)\n",
      "Requirement already satisfied: colorama in c:\\users\\wafa\\anaconda3\\lib\\site-packages (from tqdm->webdriver-manager) (0.4.4)\n",
      "Installing collected packages: webdriver-manager\n",
      "Successfully installed webdriver-manager-3.8.3\n",
      "Note: you may need to restart the kernel to use updated packages.\n"
     ]
    }
   ],
   "source": [
    "pip install webdriver-manager"
   ]
  },
  {
   "cell_type": "code",
   "execution_count": 200,
   "id": "b6dd45ac",
   "metadata": {},
   "outputs": [
    {
     "name": "stderr",
     "output_type": "stream",
     "text": [
      "C:\\Users\\wafa\\AppData\\Local\\Temp/ipykernel_9664/2160715986.py:4: DeprecationWarning: executable_path has been deprecated, please pass in a Service object\n",
      "  driver = webdriver.Chrome(ChromeDriverManager().install())\n"
     ]
    }
   ],
   "source": [
    "from selenium import webdriver\n",
    "from webdriver_manager.chrome import ChromeDriverManager\n",
    "\n",
    "driver = webdriver.Chrome(ChromeDriverManager().install())"
   ]
  },
  {
   "cell_type": "code",
   "execution_count": 201,
   "id": "075f16b4",
   "metadata": {},
   "outputs": [],
   "source": [
    "driver.get('https://mbasic.facebook.com/')"
   ]
  },
  {
   "cell_type": "code",
   "execution_count": 202,
   "id": "7bece95f",
   "metadata": {},
   "outputs": [],
   "source": [
    "WebDriverWait(driver, 2).until(EC.element_to_be_clickable((By.CSS_SELECTOR, \"button[type='submit']\"))).click()"
   ]
  },
  {
   "cell_type": "code",
   "execution_count": 203,
   "id": "c60f0fd3",
   "metadata": {},
   "outputs": [],
   "source": [
    "\n",
    "\n",
    "#open the webpage\n",
    "driver.get(\"http://www.facebook.com\")\n",
    "\n",
    "#target username\n",
    "username = WebDriverWait(driver, 10).until(EC.element_to_be_clickable((By.CSS_SELECTOR, \"input[name='email']\")))\n",
    "password = WebDriverWait(driver, 10).until(EC.element_to_be_clickable((By.CSS_SELECTOR, \"input[name='pass']\")))\n",
    "\n",
    "#enter username and password\n",
    "username.clear()\n",
    "username.send_keys(\"misswafa005@hotmail.com\")\n",
    "password.clear()\n",
    "password.send_keys(\"wafa1998@@\")\n",
    "\n",
    "#target the login button and click it\n",
    "button = WebDriverWait(driver, 2).until(EC.element_to_be_clickable((By.CSS_SELECTOR, \"button[type='submit']\"))).click()\n",
    "\n",
    "#We are logged in!"
   ]
  },
  {
   "cell_type": "code",
   "execution_count": 62,
   "id": "9d9b3a8b",
   "metadata": {},
   "outputs": [
    {
     "ename": "TimeoutException",
     "evalue": "Message: \nStacktrace:\nBacktrace:\n\tOrdinal0 [0x007778B3+2193587]\n\tOrdinal0 [0x00710681+1771137]\n\tOrdinal0 [0x006241A8+803240]\n\tOrdinal0 [0x006524A0+992416]\n\tOrdinal0 [0x0065273B+993083]\n\tOrdinal0 [0x0067F7C2+1177538]\n\tOrdinal0 [0x0066D7F4+1103860]\n\tOrdinal0 [0x0067DAE2+1170146]\n\tOrdinal0 [0x0066D5C6+1103302]\n\tOrdinal0 [0x006477E0+948192]\n\tOrdinal0 [0x006486E6+952038]\n\tGetHandleVerifier [0x00A20CB2+2738370]\n\tGetHandleVerifier [0x00A121B8+2678216]\n\tGetHandleVerifier [0x008017AA+512954]\n\tGetHandleVerifier [0x00800856+509030]\n\tOrdinal0 [0x0071743B+1799227]\n\tOrdinal0 [0x0071BB68+1817448]\n\tOrdinal0 [0x0071BC55+1817685]\n\tOrdinal0 [0x00725230+1856048]\n\tBaseThreadInitThunk [0x76146739+25]\n\tRtlGetFullPathName_UEx [0x77218FEF+1215]\n\tRtlGetFullPathName_UEx [0x77218FBD+1165]\n",
     "output_type": "error",
     "traceback": [
      "\u001b[1;31m---------------------------------------------------------------------------\u001b[0m",
      "\u001b[1;31mTimeoutException\u001b[0m                          Traceback (most recent call last)",
      "\u001b[1;32m~\\AppData\\Local\\Temp/ipykernel_9664/817668936.py\u001b[0m in \u001b[0;36m<module>\u001b[1;34m\u001b[0m\n\u001b[1;32m----> 1\u001b[1;33m \u001b[0msearch\u001b[0m \u001b[1;33m=\u001b[0m \u001b[0mWebDriverWait\u001b[0m\u001b[1;33m(\u001b[0m\u001b[0mdriver\u001b[0m\u001b[1;33m,\u001b[0m \u001b[1;36m10\u001b[0m\u001b[1;33m)\u001b[0m\u001b[1;33m.\u001b[0m\u001b[0muntil\u001b[0m\u001b[1;33m(\u001b[0m\u001b[0mEC\u001b[0m\u001b[1;33m.\u001b[0m\u001b[0melement_to_be_clickable\u001b[0m\u001b[1;33m(\u001b[0m\u001b[1;33m(\u001b[0m\u001b[0mBy\u001b[0m\u001b[1;33m.\u001b[0m\u001b[0mCSS_SELECTOR\u001b[0m\u001b[1;33m,\u001b[0m \u001b[1;34m\"input[name='query']\"\u001b[0m\u001b[1;33m)\u001b[0m\u001b[1;33m)\u001b[0m\u001b[1;33m)\u001b[0m\u001b[1;33m\u001b[0m\u001b[1;33m\u001b[0m\u001b[0m\n\u001b[0m\u001b[0;32m      2\u001b[0m \u001b[0msearch\u001b[0m\u001b[1;33m.\u001b[0m\u001b[0mclear\u001b[0m\u001b[1;33m(\u001b[0m\u001b[1;33m)\u001b[0m\u001b[1;33m\u001b[0m\u001b[1;33m\u001b[0m\u001b[0m\n\u001b[0;32m      3\u001b[0m \u001b[0msearch\u001b[0m\u001b[1;33m.\u001b[0m\u001b[0msend_keys\u001b[0m\u001b[1;33m(\u001b[0m\u001b[1;34m\"harassment\"\u001b[0m\u001b[1;33m)\u001b[0m\u001b[1;33m\u001b[0m\u001b[1;33m\u001b[0m\u001b[0m\n\u001b[0;32m      4\u001b[0m \u001b[0mlogin_btn\u001b[0m \u001b[1;33m=\u001b[0m \u001b[0mdriver\u001b[0m\u001b[1;33m.\u001b[0m\u001b[0mfind_element_by_xpath\u001b[0m\u001b[1;33m(\u001b[0m\u001b[1;34m'//*[@id=\"mount_0_0_ni\"]/div/div[1]/div/div[2]/div[2]/div/div/div/div/div/label'\u001b[0m\u001b[1;33m)\u001b[0m\u001b[1;33m\u001b[0m\u001b[1;33m\u001b[0m\u001b[0m\n\u001b[0;32m      5\u001b[0m \u001b[0mlogin_btn\u001b[0m\u001b[1;33m.\u001b[0m\u001b[0mclick\u001b[0m\u001b[1;33m(\u001b[0m\u001b[1;33m)\u001b[0m\u001b[1;33m\u001b[0m\u001b[1;33m\u001b[0m\u001b[0m\n",
      "\u001b[1;32m~\\anaconda3\\lib\\site-packages\\selenium\\webdriver\\support\\wait.py\u001b[0m in \u001b[0;36muntil\u001b[1;34m(self, method, message)\u001b[0m\n\u001b[0;32m     85\u001b[0m             \u001b[1;32mif\u001b[0m \u001b[0mtime\u001b[0m\u001b[1;33m.\u001b[0m\u001b[0mmonotonic\u001b[0m\u001b[1;33m(\u001b[0m\u001b[1;33m)\u001b[0m \u001b[1;33m>\u001b[0m \u001b[0mend_time\u001b[0m\u001b[1;33m:\u001b[0m\u001b[1;33m\u001b[0m\u001b[1;33m\u001b[0m\u001b[0m\n\u001b[0;32m     86\u001b[0m                 \u001b[1;32mbreak\u001b[0m\u001b[1;33m\u001b[0m\u001b[1;33m\u001b[0m\u001b[0m\n\u001b[1;32m---> 87\u001b[1;33m         \u001b[1;32mraise\u001b[0m \u001b[0mTimeoutException\u001b[0m\u001b[1;33m(\u001b[0m\u001b[0mmessage\u001b[0m\u001b[1;33m,\u001b[0m \u001b[0mscreen\u001b[0m\u001b[1;33m,\u001b[0m \u001b[0mstacktrace\u001b[0m\u001b[1;33m)\u001b[0m\u001b[1;33m\u001b[0m\u001b[1;33m\u001b[0m\u001b[0m\n\u001b[0m\u001b[0;32m     88\u001b[0m \u001b[1;33m\u001b[0m\u001b[0m\n\u001b[0;32m     89\u001b[0m     \u001b[1;32mdef\u001b[0m \u001b[0muntil_not\u001b[0m\u001b[1;33m(\u001b[0m\u001b[0mself\u001b[0m\u001b[1;33m,\u001b[0m \u001b[0mmethod\u001b[0m\u001b[1;33m,\u001b[0m \u001b[0mmessage\u001b[0m\u001b[1;33m=\u001b[0m\u001b[1;34m''\u001b[0m\u001b[1;33m)\u001b[0m\u001b[1;33m:\u001b[0m\u001b[1;33m\u001b[0m\u001b[1;33m\u001b[0m\u001b[0m\n",
      "\u001b[1;31mTimeoutException\u001b[0m: Message: \nStacktrace:\nBacktrace:\n\tOrdinal0 [0x007778B3+2193587]\n\tOrdinal0 [0x00710681+1771137]\n\tOrdinal0 [0x006241A8+803240]\n\tOrdinal0 [0x006524A0+992416]\n\tOrdinal0 [0x0065273B+993083]\n\tOrdinal0 [0x0067F7C2+1177538]\n\tOrdinal0 [0x0066D7F4+1103860]\n\tOrdinal0 [0x0067DAE2+1170146]\n\tOrdinal0 [0x0066D5C6+1103302]\n\tOrdinal0 [0x006477E0+948192]\n\tOrdinal0 [0x006486E6+952038]\n\tGetHandleVerifier [0x00A20CB2+2738370]\n\tGetHandleVerifier [0x00A121B8+2678216]\n\tGetHandleVerifier [0x008017AA+512954]\n\tGetHandleVerifier [0x00800856+509030]\n\tOrdinal0 [0x0071743B+1799227]\n\tOrdinal0 [0x0071BB68+1817448]\n\tOrdinal0 [0x0071BC55+1817685]\n\tOrdinal0 [0x00725230+1856048]\n\tBaseThreadInitThunk [0x76146739+25]\n\tRtlGetFullPathName_UEx [0x77218FEF+1215]\n\tRtlGetFullPathName_UEx [0x77218FBD+1165]\n"
     ]
    }
   ],
   "source": [
    "search = WebDriverWait(driver, 10).until(EC.element_to_be_clickable((By.CSS_SELECTOR, \"input[name='query']\")))\n",
    "search.clear()\n",
    "\n",
    "search.send_keys(\"harassment\")\n",
    "login_btn = driver.find_element_by_xpath('//*[@id=\"mount_0_0_ni\"]/div/div[1]/div/div[2]/div[2]/div/div/div/div/div/label')\n",
    "login_btn.click()"
   ]
  },
  {
   "cell_type": "code",
   "execution_count": 204,
   "id": "84daa1b1",
   "metadata": {},
   "outputs": [],
   "source": [
    "key_word=\"harcelement\""
   ]
  },
  {
   "cell_type": "code",
   "execution_count": 205,
   "id": "8946a112",
   "metadata": {},
   "outputs": [],
   "source": [
    "search_link=f\"https://www.facebook.com/search/posts/?q={key_word}\""
   ]
  },
  {
   "cell_type": "code",
   "execution_count": 206,
   "id": "b5ade127",
   "metadata": {},
   "outputs": [],
   "source": [
    "driver.get(search_link)"
   ]
  },
  {
   "cell_type": "code",
   "execution_count": 207,
   "id": "85412abc",
   "metadata": {},
   "outputs": [
    {
     "name": "stderr",
     "output_type": "stream",
     "text": [
      "C:\\Users\\wafa\\AppData\\Local\\Temp/ipykernel_9664/2437399304.py:1: DeprecationWarning: find_elements_by_link_text is deprecated. Please use find_elements(by=By.LINK_TEXT, value=text) instead\n",
      "  links = driver.find_elements_by_link_text('harcélement')\n"
     ]
    }
   ],
   "source": [
    "#links = driver.find_elements_by_link_text('harcélement')"
   ]
  },
  {
   "cell_type": "code",
   "execution_count": null,
   "id": "85609225",
   "metadata": {},
   "outputs": [],
   "source": [
    "//*[@id=\"jsc_c_1l\"]"
   ]
  },
  {
   "cell_type": "code",
   "execution_count": 220,
   "id": "50adbb01",
   "metadata": {},
   "outputs": [
    {
     "name": "stdout",
     "output_type": "stream",
     "text": [
      "<selenium.webdriver.remote.webelement.WebElement (session=\"d39858b8849f3436b5941eeb577bba7f\", element=\"8095a5e6-df58-4f28-8386-1b2f6e1c57c9\")>\n"
     ]
    }
   ],
   "source": [
    "print(links)"
   ]
  },
  {
   "cell_type": "code",
   "execution_count": 213,
   "id": "5ebbbce8",
   "metadata": {},
   "outputs": [
    {
     "name": "stderr",
     "output_type": "stream",
     "text": [
      "C:\\Users\\wafa\\AppData\\Local\\Temp/ipykernel_9664/2516475241.py:1: DeprecationWarning: find_element_by_xpath is deprecated. Please use find_element(by=By.XPATH, value=xpath) instead\n",
      "  links = driver.find_element_by_xpath('//*[@id=\"mount_0_0_r9\"]/div/div[1]/div/div[3]/div/div/div/div[1]/div[1]/div[2]/div/div/div/div/div/div[2]/div')\n"
     ]
    }
   ],
   "source": [
    "links = driver.find_element_by_xpath('//*[@id=\"mount_0_0_r9\"]/div/div[1]/div/div[3]/div/div/div/div[1]/div[1]/div[2]/div/div/div/div/div/div[2]/div')"
   ]
  },
  {
   "cell_type": "code",
   "execution_count": 219,
   "id": "9c8ae232",
   "metadata": {},
   "outputs": [
    {
     "name": "stderr",
     "output_type": "stream",
     "text": [
      "C:\\Users\\wafa\\AppData\\Local\\Temp/ipykernel_9664/4025836225.py:1: DeprecationWarning: find_element_by_xpath is deprecated. Please use find_element(by=By.XPATH, value=xpath) instead\n",
      "  links = driver.find_element_by_xpath('//*[@id=\"jsc_c_1l\"]')\n"
     ]
    }
   ],
   "source": [
    "links = driver.find_element_by_xpath('//*[@id=\"jsc_c_1l\"]')"
   ]
  },
  {
   "cell_type": "code",
   "execution_count": 215,
   "id": "aff8eed4",
   "metadata": {},
   "outputs": [],
   "source": [
    "list_dir=\"C:\\\\\"\n",
    "default_dir = os.path.join(list_dir,\"C:/Users/wafa/Documents/data\")\n",
    "opener = urllib.request.build_opener()\n",
    "urllib.request.install_opener(opener)"
   ]
  },
  {
   "cell_type": "code",
   "execution_count": 216,
   "id": "0c9011ab",
   "metadata": {},
   "outputs": [
    {
     "ename": "TypeError",
     "evalue": "'WebElement' object is not iterable",
     "output_type": "error",
     "traceback": [
      "\u001b[1;31m---------------------------------------------------------------------------\u001b[0m",
      "\u001b[1;31mTypeError\u001b[0m                                 Traceback (most recent call last)",
      "\u001b[1;32m~\\AppData\\Local\\Temp/ipykernel_9664/3351738951.py\u001b[0m in \u001b[0;36m<module>\u001b[1;34m\u001b[0m\n\u001b[0;32m      1\u001b[0m \u001b[0mpubs\u001b[0m \u001b[1;33m=\u001b[0m \u001b[1;33m[\u001b[0m\u001b[1;33m]\u001b[0m\u001b[1;33m\u001b[0m\u001b[1;33m\u001b[0m\u001b[0m\n\u001b[0;32m      2\u001b[0m \u001b[1;33m\u001b[0m\u001b[0m\n\u001b[1;32m----> 3\u001b[1;33m \u001b[1;32mfor\u001b[0m \u001b[0mlink\u001b[0m \u001b[1;32min\u001b[0m \u001b[0mlinks\u001b[0m\u001b[1;33m:\u001b[0m\u001b[1;33m\u001b[0m\u001b[1;33m\u001b[0m\u001b[0m\n\u001b[0m\u001b[0;32m      4\u001b[0m \u001b[1;33m\u001b[0m\u001b[0m\n\u001b[0;32m      5\u001b[0m     \u001b[0mpub\u001b[0m \u001b[1;33m=\u001b[0m \u001b[1;33m{\u001b[0m\u001b[1;33m}\u001b[0m\u001b[1;33m\u001b[0m\u001b[1;33m\u001b[0m\u001b[0m\n",
      "\u001b[1;31mTypeError\u001b[0m: 'WebElement' object is not iterable"
     ]
    }
   ],
   "source": [
    "pubs = []\n",
    "\n",
    "for link in links:\n",
    "    \n",
    "    pub = {}\n",
    "    page_content = requests.get(link.get_attribute('href')).content\n",
    "    soup = BeautifulSoup(page_content, 'html.parser')\n",
    "   \n",
    "    pub['text'] = soup.p.text\n",
    "    pub['image'] = soup.img[\"src\"]\n",
    "    img_url = soup.img[\"src\"]\n",
    "    filename = os.path.join(default_dir, img_url.split(\"/\")[-1])\n",
    "    img_data = opener.open(img_url)\n",
    "    f = open(filename,\"wb\")\n",
    "    f.write(img_data.read())\n",
    "    f.close()\n",
    "    pubs.append(pub)\n",
    "    "
   ]
  },
  {
   "cell_type": "code",
   "execution_count": 180,
   "id": "8ba18a8f",
   "metadata": {},
   "outputs": [
    {
     "data": {
      "text/plain": [
       "[]"
      ]
     },
     "execution_count": 180,
     "metadata": {},
     "output_type": "execute_result"
    }
   ],
   "source": [
    "pubs"
   ]
  },
  {
   "cell_type": "code",
   "execution_count": null,
   "id": "2613f6f3",
   "metadata": {},
   "outputs": [],
   "source": [
    "client = pymongo.MongoClient()\n",
    "mybase = client[\"facebook\"]\n",
    "mycol = mybase[\"posts\"]\n",
    "mycol.insert_many(pubs)\n",
    "mycol.find_one()"
   ]
  },
  {
   "cell_type": "code",
   "execution_count": null,
   "id": "c6760c67",
   "metadata": {},
   "outputs": [],
   "source": []
  }
 ],
 "metadata": {
  "kernelspec": {
   "display_name": "Python 3 (ipykernel)",
   "language": "python",
   "name": "python3"
  },
  "language_info": {
   "codemirror_mode": {
    "name": "ipython",
    "version": 3
   },
   "file_extension": ".py",
   "mimetype": "text/x-python",
   "name": "python",
   "nbconvert_exporter": "python",
   "pygments_lexer": "ipython3",
   "version": "3.9.7"
  }
 },
 "nbformat": 4,
 "nbformat_minor": 5
}
